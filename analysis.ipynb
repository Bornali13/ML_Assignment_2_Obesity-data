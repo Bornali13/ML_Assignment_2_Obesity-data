{
 "cells": [
  {
   "cell_type": "markdown",
   "id": "8eab5960",
   "metadata": {},
   "source": [
    "PRT 565 Assignment2\n",
    "Name:Bornali Rahman\n",
    "ID:s372226\n",
    "\n",
    "Data Analysis for estimation of obesity level\n",
    "The purpose of this analysis is to develop a ML based model on the dataset of obesity , to estimate the obesity levels. This data set is based on eating habits and physical condition in individuals from Colombia, Peru and Mexico."
   ]
  },
  {
   "cell_type": "markdown",
   "id": "e2bd4ffc",
   "metadata": {},
   "source": [
    "#Environment Setup and Data Load\n",
    "Before starting the analysis the enciroment should set up properly by importing the necessary library."
   ]
  },
  {
   "cell_type": "code",
   "execution_count": 2,
   "id": "432fe3b9",
   "metadata": {},
   "outputs": [],
   "source": [
    "from datetime import datetime\n",
    "import pandas as pd\n"
   ]
  },
  {
   "cell_type": "code",
   "execution_count": 3,
   "id": "35c9993c",
   "metadata": {},
   "outputs": [
    {
     "name": "stderr",
     "output_type": "stream",
     "text": [
      "<>:1: SyntaxWarning: invalid escape sequence '\\M'\n",
      "<>:1: SyntaxWarning: invalid escape sequence '\\M'\n",
      "C:\\Users\\Asus\\AppData\\Local\\Temp\\ipykernel_26108\\4080624637.py:1: SyntaxWarning: invalid escape sequence '\\M'\n",
      "  raw_path = \"E:\\ML_Assignment_2_Obesity-data\\ObesityDataSet_raw_and_data_sinthetic.csv\"\n"
     ]
    }
   ],
   "source": [
    "raw_path = \"E:\\ML_Assignment_2_Obesity-data\\ObesityDataSet_raw_and_data_sinthetic.csv\""
   ]
  },
  {
   "cell_type": "markdown",
   "id": "e6d1ad11",
   "metadata": {},
   "source": [
    "Data load & Type Analysi"
   ]
  },
  {
   "cell_type": "code",
   "execution_count": null,
   "id": "2c23ca3e",
   "metadata": {},
   "outputs": [
    {
     "ename": "NameError",
     "evalue": "name 'pd' is not defined",
     "output_type": "error",
     "traceback": [
      "\u001b[1;31m---------------------------------------------------------------------------\u001b[0m",
      "\u001b[1;31mNameError\u001b[0m                                 Traceback (most recent call last)",
      "Cell \u001b[1;32mIn[1], line 1\u001b[0m\n\u001b[1;32m----> 1\u001b[0m df \u001b[38;5;241m=\u001b[39m \u001b[43mpd\u001b[49m\u001b[38;5;241m.\u001b[39mread_csv(RAW_PATH)\n\u001b[0;32m      2\u001b[0m \u001b[38;5;28mprint\u001b[39m(\u001b[38;5;124m\"\u001b[39m\u001b[38;5;124mNull Data:\u001b[39m\u001b[38;5;130;01m\\n\u001b[39;00m\u001b[38;5;124m\"\u001b[39m, df\u001b[38;5;241m.\u001b[39misnull()\u001b[38;5;241m.\u001b[39msum())\n\u001b[0;32m      4\u001b[0m \u001b[38;5;28mprint\u001b[39m(\u001b[38;5;124m\"\u001b[39m\u001b[38;5;124mData Shape:\u001b[39m\u001b[38;5;130;01m\\n\u001b[39;00m\u001b[38;5;124m\"\u001b[39m, df\u001b[38;5;241m.\u001b[39mshape)\n",
      "\u001b[1;31mNameError\u001b[0m: name 'pd' is not defined"
     ]
    }
   ],
   "source": [
    "df = pd.read_csv()\n",
    "print(\"Null Data:\\n\", df.isnull().sum())\n",
    "\n",
    "print(\"Data Shape:\\n\", df.shape)"
   ]
  }
 ],
 "metadata": {
  "kernelspec": {
   "display_name": "Python 3",
   "language": "python",
   "name": "python3"
  },
  "language_info": {
   "codemirror_mode": {
    "name": "ipython",
    "version": 3
   },
   "file_extension": ".py",
   "mimetype": "text/x-python",
   "name": "python",
   "nbconvert_exporter": "python",
   "pygments_lexer": "ipython3",
   "version": "3.12.10"
  }
 },
 "nbformat": 4,
 "nbformat_minor": 5
}
